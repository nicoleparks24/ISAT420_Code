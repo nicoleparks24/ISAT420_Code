{
 "cells": [
  {
   "cell_type": "markdown",
   "metadata": {},
   "source": [
    "# Fitting a statistical wind model "
   ]
  },
  {
   "cell_type": "markdown",
   "metadata": {},
   "source": [
    "## Background\n",
    "\n",
    "During the last lecture, we discussed the impotance and challenges when fitting statistical models using extreme temperatures and river runoff extremes as case studies."
   ]
  },
  {
   "cell_type": "markdown",
   "metadata": {},
   "source": [
    "Another area, where statistical models are important is wind development. \n",
    "\n",
    "To assess a locations wind energy potential, we need to be able to model the overall distribution of wind speeds. \n",
    "\n",
    "Getting the wind speed distribution right, matters because wind power potential ($P$) is proportional to the third power of the wind speed ($v$). \n",
    "\n",
    "$P = 1/2 \\rho A v^3$, \n",
    "\n",
    "with $\\rho$ as air density, $A$ as rotor size of a wind turbine. \n",
    "\n",
    "The map below created by the [National Renewable Energy Laboratory](https://www.nrel.gov/) shows the estimated wind energy potential in the U.S."
   ]
  },
  {
   "cell_type": "markdown",
   "metadata": {},
   "source": [
    "![](https://www.nrel.gov/gis/assets/images/wtk-140m-2017-01.jpg)"
   ]
  },
  {
   "cell_type": "markdown",
   "metadata": {},
   "source": [
    "## Learning Goals\n",
    "\n",
    "- Practice fitting a statistical model the wind speed distribution\n",
    "- Modularize code as functions for easier reuse\n",
    "- Practice plotting and calculating statistics using `pandas` and `numpy`."
   ]
  },
  {
   "cell_type": "code",
   "execution_count": 1,
   "metadata": {},
   "outputs": [],
   "source": [
    "import pandas as pd\n",
    "import matplotlib.pyplot as plt\n",
    "import numpy as np\n",
    "\n",
    "plt.style.use('ggplot')"
   ]
  },
  {
   "cell_type": "markdown",
   "metadata": {},
   "source": [
    "## Task 1: Load and clean the wind data\n",
    "\n",
    "The `data` folder contains two _*.csv_ files. One is from Phoenix uses in our last analysis (Station Code: USW00023183), the other one is taken from Charlottesville Airport. You can use either file. "
   ]
  },
  {
   "cell_type": "markdown",
   "metadata": {},
   "source": [
    "### Subtasks 1.1: Load the wind data into a dataframe\n",
    "Subtasks\n",
    "\n",
    "- Load the NOAA station data into a dataframe\n",
    "- Save the the average wind speed `AWND` to a new dataframe.\n",
    "  \n",
    "  _Hint: `['<varname>']` will produce a pandas Series, while `[['<varname>>']]` will produce a pandas DataFrame_  \n",
    "- Inspect the contents of the dataframe"
   ]
  },
  {
   "cell_type": "code",
   "execution_count": 19,
   "metadata": {},
   "outputs": [
    {
     "name": "stderr",
     "output_type": "stream",
     "text": [
      "C:\\Users\\Nicole\\AppData\\Local\\Temp\\ipykernel_17024\\3683832410.py:1: DtypeWarning: Columns (16,22,26,28,32,34,38,40,44,46) have mixed types. Specify dtype option on import or set low_memory=False.\n",
      "  weather_phoenix = pd.read_csv('../data/NOAA_GHCN_USW00023183.csv',\n"
     ]
    },
    {
     "data": {
      "text/html": [
       "<div>\n",
       "<style scoped>\n",
       "    .dataframe tbody tr th:only-of-type {\n",
       "        vertical-align: middle;\n",
       "    }\n",
       "\n",
       "    .dataframe tbody tr th {\n",
       "        vertical-align: top;\n",
       "    }\n",
       "\n",
       "    .dataframe thead th {\n",
       "        text-align: right;\n",
       "    }\n",
       "</style>\n",
       "<table border=\"1\" class=\"dataframe\">\n",
       "  <thead>\n",
       "    <tr style=\"text-align: right;\">\n",
       "      <th></th>\n",
       "      <th>STATION</th>\n",
       "      <th>NAME</th>\n",
       "      <th>AWND</th>\n",
       "      <th>AWND_ATTRIBUTES</th>\n",
       "      <th>FMTM</th>\n",
       "      <th>FMTM_ATTRIBUTES</th>\n",
       "      <th>PGTM</th>\n",
       "      <th>PGTM_ATTRIBUTES</th>\n",
       "      <th>PRCP</th>\n",
       "      <th>PRCP_ATTRIBUTES</th>\n",
       "      <th>...</th>\n",
       "      <th>WSF2</th>\n",
       "      <th>WSF2_ATTRIBUTES</th>\n",
       "      <th>WSF5</th>\n",
       "      <th>WSF5_ATTRIBUTES</th>\n",
       "      <th>WSFG</th>\n",
       "      <th>WSFG_ATTRIBUTES</th>\n",
       "      <th>WSFI</th>\n",
       "      <th>WSFI_ATTRIBUTES</th>\n",
       "      <th>WSFM</th>\n",
       "      <th>WSFM_ATTRIBUTES</th>\n",
       "    </tr>\n",
       "    <tr>\n",
       "      <th>DATE</th>\n",
       "      <th></th>\n",
       "      <th></th>\n",
       "      <th></th>\n",
       "      <th></th>\n",
       "      <th></th>\n",
       "      <th></th>\n",
       "      <th></th>\n",
       "      <th></th>\n",
       "      <th></th>\n",
       "      <th></th>\n",
       "      <th></th>\n",
       "      <th></th>\n",
       "      <th></th>\n",
       "      <th></th>\n",
       "      <th></th>\n",
       "      <th></th>\n",
       "      <th></th>\n",
       "      <th></th>\n",
       "      <th></th>\n",
       "      <th></th>\n",
       "      <th></th>\n",
       "    </tr>\n",
       "  </thead>\n",
       "  <tbody>\n",
       "    <tr>\n",
       "      <th>1934-01-01</th>\n",
       "      <td>USW00023183</td>\n",
       "      <td>PHOENIX AIRPORT, AZ US</td>\n",
       "      <td>NaN</td>\n",
       "      <td>NaN</td>\n",
       "      <td>NaN</td>\n",
       "      <td>NaN</td>\n",
       "      <td>NaN</td>\n",
       "      <td>NaN</td>\n",
       "      <td>0.0</td>\n",
       "      <td>P,,6,null</td>\n",
       "      <td>...</td>\n",
       "      <td>NaN</td>\n",
       "      <td>NaN</td>\n",
       "      <td>NaN</td>\n",
       "      <td>NaN</td>\n",
       "      <td>NaN</td>\n",
       "      <td>NaN</td>\n",
       "      <td>NaN</td>\n",
       "      <td>NaN</td>\n",
       "      <td>NaN</td>\n",
       "      <td>NaN</td>\n",
       "    </tr>\n",
       "    <tr>\n",
       "      <th>1934-01-02</th>\n",
       "      <td>USW00023183</td>\n",
       "      <td>PHOENIX AIRPORT, AZ US</td>\n",
       "      <td>NaN</td>\n",
       "      <td>NaN</td>\n",
       "      <td>NaN</td>\n",
       "      <td>NaN</td>\n",
       "      <td>NaN</td>\n",
       "      <td>NaN</td>\n",
       "      <td>0.0</td>\n",
       "      <td>P,,6,null</td>\n",
       "      <td>...</td>\n",
       "      <td>NaN</td>\n",
       "      <td>NaN</td>\n",
       "      <td>NaN</td>\n",
       "      <td>NaN</td>\n",
       "      <td>NaN</td>\n",
       "      <td>NaN</td>\n",
       "      <td>NaN</td>\n",
       "      <td>NaN</td>\n",
       "      <td>NaN</td>\n",
       "      <td>NaN</td>\n",
       "    </tr>\n",
       "    <tr>\n",
       "      <th>1934-01-03</th>\n",
       "      <td>USW00023183</td>\n",
       "      <td>PHOENIX AIRPORT, AZ US</td>\n",
       "      <td>NaN</td>\n",
       "      <td>NaN</td>\n",
       "      <td>NaN</td>\n",
       "      <td>NaN</td>\n",
       "      <td>NaN</td>\n",
       "      <td>NaN</td>\n",
       "      <td>0.0</td>\n",
       "      <td>P,,6,null</td>\n",
       "      <td>...</td>\n",
       "      <td>NaN</td>\n",
       "      <td>NaN</td>\n",
       "      <td>NaN</td>\n",
       "      <td>NaN</td>\n",
       "      <td>NaN</td>\n",
       "      <td>NaN</td>\n",
       "      <td>NaN</td>\n",
       "      <td>NaN</td>\n",
       "      <td>NaN</td>\n",
       "      <td>NaN</td>\n",
       "    </tr>\n",
       "    <tr>\n",
       "      <th>1934-01-04</th>\n",
       "      <td>USW00023183</td>\n",
       "      <td>PHOENIX AIRPORT, AZ US</td>\n",
       "      <td>NaN</td>\n",
       "      <td>NaN</td>\n",
       "      <td>NaN</td>\n",
       "      <td>NaN</td>\n",
       "      <td>NaN</td>\n",
       "      <td>NaN</td>\n",
       "      <td>0.0</td>\n",
       "      <td>P,,6,null</td>\n",
       "      <td>...</td>\n",
       "      <td>NaN</td>\n",
       "      <td>NaN</td>\n",
       "      <td>NaN</td>\n",
       "      <td>NaN</td>\n",
       "      <td>NaN</td>\n",
       "      <td>NaN</td>\n",
       "      <td>NaN</td>\n",
       "      <td>NaN</td>\n",
       "      <td>NaN</td>\n",
       "      <td>NaN</td>\n",
       "    </tr>\n",
       "    <tr>\n",
       "      <th>1934-01-05</th>\n",
       "      <td>USW00023183</td>\n",
       "      <td>PHOENIX AIRPORT, AZ US</td>\n",
       "      <td>NaN</td>\n",
       "      <td>NaN</td>\n",
       "      <td>NaN</td>\n",
       "      <td>NaN</td>\n",
       "      <td>NaN</td>\n",
       "      <td>NaN</td>\n",
       "      <td>0.0</td>\n",
       "      <td>P,,6,null</td>\n",
       "      <td>...</td>\n",
       "      <td>NaN</td>\n",
       "      <td>NaN</td>\n",
       "      <td>NaN</td>\n",
       "      <td>NaN</td>\n",
       "      <td>NaN</td>\n",
       "      <td>NaN</td>\n",
       "      <td>NaN</td>\n",
       "      <td>NaN</td>\n",
       "      <td>NaN</td>\n",
       "      <td>NaN</td>\n",
       "    </tr>\n",
       "  </tbody>\n",
       "</table>\n",
       "<p>5 rows × 46 columns</p>\n",
       "</div>"
      ],
      "text/plain": [
       "                STATION                    NAME  AWND AWND_ATTRIBUTES  FMTM  \\\n",
       "DATE                                                                          \n",
       "1934-01-01  USW00023183  PHOENIX AIRPORT, AZ US   NaN             NaN   NaN   \n",
       "1934-01-02  USW00023183  PHOENIX AIRPORT, AZ US   NaN             NaN   NaN   \n",
       "1934-01-03  USW00023183  PHOENIX AIRPORT, AZ US   NaN             NaN   NaN   \n",
       "1934-01-04  USW00023183  PHOENIX AIRPORT, AZ US   NaN             NaN   NaN   \n",
       "1934-01-05  USW00023183  PHOENIX AIRPORT, AZ US   NaN             NaN   NaN   \n",
       "\n",
       "           FMTM_ATTRIBUTES  PGTM PGTM_ATTRIBUTES  PRCP PRCP_ATTRIBUTES  ...  \\\n",
       "DATE                                                                    ...   \n",
       "1934-01-01             NaN   NaN             NaN   0.0       P,,6,null  ...   \n",
       "1934-01-02             NaN   NaN             NaN   0.0       P,,6,null  ...   \n",
       "1934-01-03             NaN   NaN             NaN   0.0       P,,6,null  ...   \n",
       "1934-01-04             NaN   NaN             NaN   0.0       P,,6,null  ...   \n",
       "1934-01-05             NaN   NaN             NaN   0.0       P,,6,null  ...   \n",
       "\n",
       "            WSF2 WSF2_ATTRIBUTES  WSF5 WSF5_ATTRIBUTES  WSFG WSFG_ATTRIBUTES  \\\n",
       "DATE                                                                           \n",
       "1934-01-01   NaN             NaN   NaN             NaN   NaN             NaN   \n",
       "1934-01-02   NaN             NaN   NaN             NaN   NaN             NaN   \n",
       "1934-01-03   NaN             NaN   NaN             NaN   NaN             NaN   \n",
       "1934-01-04   NaN             NaN   NaN             NaN   NaN             NaN   \n",
       "1934-01-05   NaN             NaN   NaN             NaN   NaN             NaN   \n",
       "\n",
       "            WSFI WSFI_ATTRIBUTES  WSFM WSFM_ATTRIBUTES  \n",
       "DATE                                                    \n",
       "1934-01-01   NaN             NaN   NaN             NaN  \n",
       "1934-01-02   NaN             NaN   NaN             NaN  \n",
       "1934-01-03   NaN             NaN   NaN             NaN  \n",
       "1934-01-04   NaN             NaN   NaN             NaN  \n",
       "1934-01-05   NaN             NaN   NaN             NaN  \n",
       "\n",
       "[5 rows x 46 columns]"
      ]
     },
     "execution_count": 19,
     "metadata": {},
     "output_type": "execute_result"
    }
   ],
   "source": [
    "weather_phoenix = pd.read_csv('../data/NOAA_GHCN_USW00023183.csv',\n",
    "                             parse_dates=['DATE'],\n",
    "                             index_col = ['DATE'])\n",
    "weather_phoenix.head()"
   ]
  },
  {
   "cell_type": "markdown",
   "metadata": {},
   "source": [
    "### Subtasks 1.2: Remove missing values \n",
    "\n",
    "You can use the `.dropna()` method to remove rows with _nan_-values"
   ]
  },
  {
   "cell_type": "code",
   "execution_count": 20,
   "metadata": {},
   "outputs": [],
   "source": [
    "weather_phoenix [['AWND']]\n",
    "wind_speed = weather_phoenix [['AWND']]\n"
   ]
  },
  {
   "cell_type": "code",
   "execution_count": 22,
   "metadata": {},
   "outputs": [
    {
     "data": {
      "text/html": [
       "<div>\n",
       "<style scoped>\n",
       "    .dataframe tbody tr th:only-of-type {\n",
       "        vertical-align: middle;\n",
       "    }\n",
       "\n",
       "    .dataframe tbody tr th {\n",
       "        vertical-align: top;\n",
       "    }\n",
       "\n",
       "    .dataframe thead th {\n",
       "        text-align: right;\n",
       "    }\n",
       "</style>\n",
       "<table border=\"1\" class=\"dataframe\">\n",
       "  <thead>\n",
       "    <tr style=\"text-align: right;\">\n",
       "      <th></th>\n",
       "      <th>AWND</th>\n",
       "    </tr>\n",
       "    <tr>\n",
       "      <th>DATE</th>\n",
       "      <th></th>\n",
       "    </tr>\n",
       "  </thead>\n",
       "  <tbody>\n",
       "    <tr>\n",
       "      <th>1984-01-01</th>\n",
       "      <td>4.70</td>\n",
       "    </tr>\n",
       "    <tr>\n",
       "      <th>1984-01-02</th>\n",
       "      <td>12.08</td>\n",
       "    </tr>\n",
       "    <tr>\n",
       "      <th>1984-01-03</th>\n",
       "      <td>6.93</td>\n",
       "    </tr>\n",
       "    <tr>\n",
       "      <th>1984-01-04</th>\n",
       "      <td>7.38</td>\n",
       "    </tr>\n",
       "    <tr>\n",
       "      <th>1984-01-05</th>\n",
       "      <td>5.82</td>\n",
       "    </tr>\n",
       "    <tr>\n",
       "      <th>...</th>\n",
       "      <td>...</td>\n",
       "    </tr>\n",
       "    <tr>\n",
       "      <th>2024-03-23</th>\n",
       "      <td>9.40</td>\n",
       "    </tr>\n",
       "    <tr>\n",
       "      <th>2024-03-24</th>\n",
       "      <td>12.97</td>\n",
       "    </tr>\n",
       "    <tr>\n",
       "      <th>2024-03-25</th>\n",
       "      <td>8.50</td>\n",
       "    </tr>\n",
       "    <tr>\n",
       "      <th>2024-03-26</th>\n",
       "      <td>9.40</td>\n",
       "    </tr>\n",
       "    <tr>\n",
       "      <th>2024-03-27</th>\n",
       "      <td>6.71</td>\n",
       "    </tr>\n",
       "  </tbody>\n",
       "</table>\n",
       "<p>14692 rows × 1 columns</p>\n",
       "</div>"
      ],
      "text/plain": [
       "             AWND\n",
       "DATE             \n",
       "1984-01-01   4.70\n",
       "1984-01-02  12.08\n",
       "1984-01-03   6.93\n",
       "1984-01-04   7.38\n",
       "1984-01-05   5.82\n",
       "...           ...\n",
       "2024-03-23   9.40\n",
       "2024-03-24  12.97\n",
       "2024-03-25   8.50\n",
       "2024-03-26   9.40\n",
       "2024-03-27   6.71\n",
       "\n",
       "[14692 rows x 1 columns]"
      ]
     },
     "execution_count": 22,
     "metadata": {},
     "output_type": "execute_result"
    }
   ],
   "source": [
    "wind_speed = wind_speed.dropna()\n",
    "wind_speed"
   ]
  },
  {
   "cell_type": "markdown",
   "metadata": {},
   "source": [
    "## Task 2: Explore the data"
   ]
  },
  {
   "cell_type": "markdown",
   "metadata": {},
   "source": [
    "### Subtask 2.1: Look at basic wind statistics\n",
    "\n",
    "_Hint: `.describe()`"
   ]
  },
  {
   "cell_type": "code",
   "execution_count": 23,
   "metadata": {},
   "outputs": [
    {
     "data": {
      "text/html": [
       "<div>\n",
       "<style scoped>\n",
       "    .dataframe tbody tr th:only-of-type {\n",
       "        vertical-align: middle;\n",
       "    }\n",
       "\n",
       "    .dataframe tbody tr th {\n",
       "        vertical-align: top;\n",
       "    }\n",
       "\n",
       "    .dataframe thead th {\n",
       "        text-align: right;\n",
       "    }\n",
       "</style>\n",
       "<table border=\"1\" class=\"dataframe\">\n",
       "  <thead>\n",
       "    <tr style=\"text-align: right;\">\n",
       "      <th></th>\n",
       "      <th>AWND</th>\n",
       "    </tr>\n",
       "  </thead>\n",
       "  <tbody>\n",
       "    <tr>\n",
       "      <th>count</th>\n",
       "      <td>14692.000000</td>\n",
       "    </tr>\n",
       "    <tr>\n",
       "      <th>mean</th>\n",
       "      <td>6.154301</td>\n",
       "    </tr>\n",
       "    <tr>\n",
       "      <th>std</th>\n",
       "      <td>2.221693</td>\n",
       "    </tr>\n",
       "    <tr>\n",
       "      <th>min</th>\n",
       "      <td>0.450000</td>\n",
       "    </tr>\n",
       "    <tr>\n",
       "      <th>25%</th>\n",
       "      <td>4.700000</td>\n",
       "    </tr>\n",
       "    <tr>\n",
       "      <th>50%</th>\n",
       "      <td>5.820000</td>\n",
       "    </tr>\n",
       "    <tr>\n",
       "      <th>75%</th>\n",
       "      <td>7.610000</td>\n",
       "    </tr>\n",
       "    <tr>\n",
       "      <th>max</th>\n",
       "      <td>20.130000</td>\n",
       "    </tr>\n",
       "  </tbody>\n",
       "</table>\n",
       "</div>"
      ],
      "text/plain": [
       "               AWND\n",
       "count  14692.000000\n",
       "mean       6.154301\n",
       "std        2.221693\n",
       "min        0.450000\n",
       "25%        4.700000\n",
       "50%        5.820000\n",
       "75%        7.610000\n",
       "max       20.130000"
      ]
     },
     "execution_count": 23,
     "metadata": {},
     "output_type": "execute_result"
    }
   ],
   "source": [
    "  wind_speed.describe()"
   ]
  },
  {
   "cell_type": "markdown",
   "metadata": {},
   "source": [
    "### Subtask 2.2: Plot the wind data as a histogram\n",
    "\n",
    "Use a sufficent number of bins `bins=` so that you can see the underlying distribution. \n",
    "\n",
    "Set `density = True` to get the probability distribution rather than raw counts."
   ]
  },
  {
   "cell_type": "code",
   "execution_count": 24,
   "metadata": {},
   "outputs": [
    {
     "data": {
      "text/plain": [
       "<Axes: ylabel='Frequency'>"
      ]
     },
     "execution_count": 24,
     "metadata": {},
     "output_type": "execute_result"
    },
    {
     "data": {
      "image/png": "[encoded data removed]",
      "text/plain": [
       "<Figure size 640x480 with 1 Axes>"
      ]
     },
     "metadata": {},
     "output_type": "display_data"
    }
   ],
   "source": [
    "wind_speed.plot(kind='hist', bins= 30, color= \"indigo\")"
   ]
  },
  {
   "cell_type": "markdown",
   "metadata": {},
   "source": [
    "## Taks 3: Fit a Weibull distribution to the wind data "
   ]
  },
  {
   "cell_type": "markdown",
   "metadata": {},
   "source": [
    "We want to fit a statistical model to the data. \n",
    "\n",
    "To do so, we need to: \n",
    "\n",
    "1. Decide on an appropriate statistical model\n",
    "2. Estimate the model's parameter\n",
    "3. Validate the model against our observations to ensure that it is appropriate"
   ]
  },
  {
   "cell_type": "markdown",
   "metadata": {},
   "source": [
    "### Task 3.1: Decide on a model "
   ]
  },
  {
   "cell_type": "markdown",
   "metadata": {},
   "source": [
    "The Weibull distribution is one of [many different assumed wind speed distributions](https://www.frontiersin.org/articles/10.3389/fenrg.2021.769920/full) used in wind energy assessment. \n",
    "\n",
    "The Weibull distribution is a two parametric function expressed mathematically as (Perez et al, [2007](https://agupubs.onlinelibrary.wiley.com/doi/full/10.1029/2006JD008278)):\n",
    "\n",
    "![](https://agupubs.onlinelibrary.wiley.com/cms/asset/5632b77b-0544-4101-ad3b-e5dd9610865c/jgrd13704-math-0001.gif)\n",
    "\n",
    "where $v$ is the wind speed, $c$ is the scale factor, and $k$ is the dimensionless shape parameter. "
   ]
  },
  {
   "cell_type": "markdown",
   "metadata": {},
   "source": [
    "Here are examples of the Weibull probability function for different parameter choices:\n",
    "\n",
    "![](https://upload.wikimedia.org/wikipedia/commons/thumb/5/58/Weibull_PDF.svg/488px-Weibull_PDF.svg.png)\n",
    "\n",
    "_Source: [Wikipedia - Weibull Distribution](https://en.wikipedia.org/wiki/Weibull_distribution)_"
   ]
  },
  {
   "cell_type": "markdown",
   "metadata": {},
   "source": [
    "### Aside: Functions in Python"
   ]
  },
  {
   "cell_type": "markdown",
   "metadata": {},
   "source": [
    "In python, we can define [functions](https://www.w3schools.com/python/python_functions.asp) like the ones below that takes two variables as arguments and will return their sum. "
   ]
  },
  {
   "cell_type": "code",
   "execution_count": 26,
   "metadata": {},
   "outputs": [],
   "source": [
    "def aPowerB(a,b):\n",
    "    result = a**b\n",
    "    return result\n",
    "\n",
    "def exponentialExample(a,b):\n",
    "    result = np.exp(a+b)\n",
    "    return result"
   ]
  },
  {
   "cell_type": "markdown",
   "metadata": {},
   "source": [
    "After the function is defined, we can use it like this:"
   ]
  },
  {
   "cell_type": "code",
   "execution_count": 27,
   "metadata": {},
   "outputs": [
    {
     "name": "stdout",
     "output_type": "stream",
     "text": [
      "a^b = 8\n",
      "e^(a=b)=  148.4131591025766\n"
     ]
    }
   ],
   "source": [
    "x1=2\n",
    "x2=3\n",
    "print('a^b =', aPowerB(x1,x2))\n",
    "print('e^(a=b)= ', exponentialExample(x1,x2))"
   ]
  },
  {
   "cell_type": "markdown",
   "metadata": {},
   "source": [
    "### Task 3.1.1: Code up the Weibull function"
   ]
  },
  {
   "cell_type": "markdown",
   "metadata": {},
   "source": [
    "Functions help us modularize our code. We can reuse them over and over without having to retype the operations. \n",
    "\n",
    "Let's now code up the Weibull PDF as a python function. You can use the code stub below.  "
   ]
  },
  {
   "cell_type": "code",
   "execution_count": 36,
   "metadata": {},
   "outputs": [],
   "source": [
    "def weibullPDF(x,k,c):\n",
    "\n",
    "    v=x\n",
    "    f =  (k/c)*((v/c)**(k-1))*np.exp(-(v/c)**k)\n",
    "    \n",
    "    return f"
   ]
  },
  {
   "cell_type": "markdown",
   "metadata": {},
   "source": [
    "### Testing the Weibull function"
   ]
  },
  {
   "cell_type": "markdown",
   "metadata": {},
   "source": [
    "Let's try to reproduce the figure above using our newly coded function.\n",
    "\n",
    "If you did it correctly, the figures should look similar. If not check your code... "
   ]
  },
  {
   "cell_type": "code",
   "execution_count": 37,
   "metadata": {},
   "outputs": [
    {
     "name": "stderr",
     "output_type": "stream",
     "text": [
      "C:\\Users\\Nicole\\AppData\\Local\\Temp\\ipykernel_17024\\3566420158.py:4: RuntimeWarning: divide by zero encountered in power\n",
      "  f =  (k/c)*((v/c)**(k-1))*np.exp(-(v/c)**k)\n"
     ]
    },
    {
     "data": {
      "image/png": "[encoded data removed]",
      "text/plain": [
       "<Figure size 640x480 with 1 Axes>"
      ]
     },
     "metadata": {},
     "output_type": "display_data"
    }
   ],
   "source": [
    "fig = plt.figure() \n",
    "\n",
    "klist = [0.5, 1, 1.5, 5]\n",
    "v = np.linspace(0,2.5,100) \n",
    "for k in klist: \n",
    "    pdf = weibullPDF(x,k,1)\n",
    "    plt.plot(x,pdf, label = k)\n",
    "    plt.legend()"
   ]
  },
  {
   "cell_type": "markdown",
   "metadata": {},
   "source": [
    "### Task 3.2: Model Parameter Estimation"
   ]
  },
  {
   "cell_type": "markdown",
   "metadata": {},
   "source": [
    "Next, we need to find the parameters that provide the best fit of the Weibull distribution to our wind data.\n",
    "\n",
    "One way of doing so, is to use an optimization algorithm that compares the observed distribution to the theoretical distrubtion. \n",
    "\n",
    "Such algorithms seek to minimize a `penalty function`. \n",
    "\n",
    "**The smaller the penalty value, the better the fit!**\n",
    "\n"
   ]
  },
  {
   "cell_type": "markdown",
   "metadata": {},
   "source": [
    "### 3.2.1 Decide on success criterion\n",
    "\n",
    "A commonly used penality function is the Sum of Squares.  \n",
    "\n",
    "$SoS = \\Sigma_i[(y_i - y_{est,i})^2]$\n",
    "\n",
    "Let's code it up below: \n",
    "\n",
    "_Hint: You can use `np.sum()`._ \n",
    "\n",
    "_Running the cell will show you, whether you did it right_"
   ]
  },
  {
   "cell_type": "code",
   "execution_count": 38,
   "metadata": {},
   "outputs": [
    {
     "name": "stdout",
     "output_type": "stream",
     "text": [
      "Correct SoS =  4 Your SoS:  2\n"
     ]
    }
   ],
   "source": [
    "def penaltyFunction(y,y_est):\n",
    "    penalty = np.sum(y-y_est**2) \n",
    "    return penalty\n",
    "\n",
    "\n",
    "# don't change the lines below\n",
    "y1 = np.array([1,1,3])\n",
    "y2 = np.array([1,1,1])\n",
    "SoS = penaltyFunction(y1,y2)\n",
    "print('Correct SoS = ', 4, 'Your SoS: ', SoS)"
   ]
  },
  {
   "cell_type": "markdown",
   "metadata": {},
   "source": [
    "### Task 3.2.2 Getting observed wind speed probabilities"
   ]
  },
  {
   "cell_type": "markdown",
   "metadata": {},
   "source": [
    "We can use the `np.histogram()` function (which is actually the function used by the pandas histogram, to calculate the observed wind speed probabilities. \n",
    "\n",
    "To do so, use the same numer of bins in the original plot "
   ]
  },
  {
   "cell_type": "code",
   "execution_count": null,
   "metadata": {},
   "outputs": [],
   "source": [
    "# The below code if done correct, will save the probabilities to the probability variable, and also return the edges for each bin\n",
    "observedPDF, binEdges= np.histogram()\n",
    "\n",
    "# The wind speeds are the center of each bin, calculated as (don't change this)\n",
    "windSpeedClass=(binEdges[:-1]+binEdges[1:])/2"
   ]
  },
  {
   "cell_type": "markdown",
   "metadata": {},
   "source": [
    "### Task 3.2.3: Putting it all together"
   ]
  },
  {
   "cell_type": "markdown",
   "metadata": {},
   "source": [
    "We can now put everything together to estimate our parameters. \n",
    "\n",
    "The code below uses two loops to loop over different values for `k` and `c`. \n",
    "\n",
    "Then the code should do the following:\n",
    "\n",
    "1. Calculate the Weibull PDF for the value of `k` and `c` at the wind speed classes from the histogram.\n",
    "2. Calculate the penalty function between the Weibull PDF and the Observed PDF.\n",
    "3. Compare the Penalty Function to the current minimum value of the Penalty function\n",
    "4. If the current Penalty Function is smaller than the current minimum. Update the optimal parameters for\n",
    "   - k\n",
    "   - c\n",
    "   - minimum Penalty function."
   ]
  },
  {
   "cell_type": "code",
   "execution_count": null,
   "metadata": {},
   "outputs": [],
   "source": [
    "import time\n",
    "\n",
    "n=100\n",
    "ks = np.linspace(0,10,n) # defines the values of k to test\n",
    "print(ks)\n",
    "cs = np.linspace(0,10,n) # defines the values of c to test\n",
    "\n",
    "# Setting intial values, leave unchanged\n",
    "kOpt = []\n",
    "cOpt = []\n",
    "PenaltyOpt = np.inf\n",
    "\n",
    "t1= time.perf_counter()\n",
    "# This code loops over all the k and c values defined above:\n",
    "for k in ks:\n",
    "    for c in cs:\n",
    "        ## Complete the code below to evaluate the weibullPDF for the k and c value (1 line)\n",
    "        modeledPDF = # \n",
    "        ## \n",
    "\n",
    "        ## omplete the code below to calculate the sum of squares beteen the modeledPDF and observedPDF (1 line)\n",
    "        Penalty = \n",
    "        ## \n",
    "\n",
    "        # Compare the Penalty to Optimal Penalty found so far\n",
    "        # If the current penalty is smaller than the optimal Penalty, update kOpt, lOpt, PenaltyOpt to new values\n",
    "        # Update the 4 lines below\n",
    "        if ():\n",
    "            kOpt = #\n",
    "            cOpt = #\n",
    "            PenaltyOpt = #\n",
    "        # \n",
    "\n",
    "t2 = time.perf_counter()\n",
    "duration = t2-t1\n",
    "\n",
    "print(f'The code took {duration:.2f} seconds to run')\n",
    "print('fitted k: ', kOpt, 'fitted c: ', cOpt, 'RMSE: ', PenaltyOpt) \n"
   ]
  },
  {
   "cell_type": "markdown",
   "metadata": {},
   "source": [
    "### Evaluationg the model\n",
    "\n",
    "We can now investigate how well our model does by plotting things together. "
   ]
  },
  {
   "cell_type": "code",
   "execution_count": null,
   "metadata": {},
   "outputs": [],
   "source": [
    "plt.figure()\n",
    "ax = wind_speed['AWND'].hist(bins = 30, density = True)\n",
    "plt.plot(windSpeedClass,weibullPDF(windSpeedClass,kOpt,cOpt))\n",
    "plt.text(15,0.2,f'SOS ={PenaltyOpt:.3f}',fontsize = 12)\n",
    "plt.text(15,0.18,f'k = {kOpt:.3f}',fontsize = 12)\n",
    "plt.text(15,0.16,f'l = {cOpt:.3f}',fontsize=12)"
   ]
  },
  {
   "cell_type": "markdown",
   "metadata": {},
   "source": [
    "## Task 4: Evaluate Model Performance\n",
    "\n",
    "Change the value of the `n` parameter in the parameter fitting alogrithm. \n",
    "\n",
    "See what happens to the optimal parameters and the time it takes to run. \n",
    "\n",
    "\n",
    "**P.S.: Looping over all values is very inefficient. Numerical solvers, like `scipy.optimize()` will use different techniques. A common optimization algorithm used is [Gradient Descent](https://en.wikipedia.org/wiki/Gradient_descent), which avoids having to test all values.** "
   ]
  },
  {
   "cell_type": "markdown",
   "metadata": {},
   "source": [
    "## Super Task 5: Turn the optimization into a function\n",
    "\n",
    "You could turn the entire optimization loops above into a function and then use this function to investigate how the runtime and the optimized parameters change for different values of `n`. "
   ]
  },
  {
   "cell_type": "code",
   "execution_count": null,
   "metadata": {},
   "outputs": [],
   "source": [
    "# Here is a bit of code, that could help you when running your \n",
    "ns = np.logspace(1,5,10)\n",
    "print(ns)\n",
    "\n",
    "runtimes = []\n",
    "cOpts = []\n",
    "kOpts = []\n",
    "\n",
    "for n in ns:\n",
    "    \n",
    "    cOpts.append(n)\n",
    "    kOpts.append(n)\n",
    "    runtimes.append(n)\n",
    "\n",
    "print(runtimes)"
   ]
  }
 ],
 "metadata": {
  "kernelspec": {
   "display_name": "Python 3 (ipykernel)",
   "language": "python",
   "name": "python3"
  },
  "language_info": {
   "codemirror_mode": {
    "name": "ipython",
    "version": 3
   },
   "file_extension": ".py",
   "mimetype": "text/x-python",
   "name": "python",
   "nbconvert_exporter": "python",
   "pygments_lexer": "ipython3",
   "version": "3.11.5"
  }
 },
 "nbformat": 4,
 "nbformat_minor": 4
}
